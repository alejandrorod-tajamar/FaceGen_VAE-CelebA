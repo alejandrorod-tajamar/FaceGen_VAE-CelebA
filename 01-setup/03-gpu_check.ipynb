{
 "cells": [
  {
   "cell_type": "markdown",
   "id": "3858d2aa",
   "metadata": {
    "vscode": {
     "languageId": "plaintext"
    }
   },
   "source": [
    "## Check if the GPU is available and whether it's being used or not"
   ]
  },
  {
   "cell_type": "code",
   "execution_count": null,
   "id": "3c00efa1",
   "metadata": {},
   "outputs": [],
   "source": [
    "import tensorflow as tf\n",
    "\n",
    "# Check if TensorFlow can see the GPU\n",
    "print(\"Num GPUs Available: \", len(tf.config.list_physical_devices('GPU')))\n",
    "\n",
    "# Print the list of available physical devices\n",
    "gpus = tf.config.list_physical_devices('GPU')\n",
    "for gpu in gpus:\n",
    "    print(\"Name:\", gpu.name, \"  Type:\", gpu.device_type)\n",
    "\n",
    "# Check if TensorFlow is using GPU\n",
    "if gpus:\n",
    "    print(\"GPU is available and TensorFlow is configured to use it\")\n",
    "else:\n",
    "    print(\"No GPU available, TensorFlow will use CPU\")\n",
    "\n",
    "# Check TensorFlow version\n",
    "print(\"TensorFlow version:\", tf.__version__)"
   ]
  }
 ],
 "metadata": {
  "language_info": {
   "name": "python"
  }
 },
 "nbformat": 4,
 "nbformat_minor": 5
}
