{
 "cells": [
  {
   "cell_type": "markdown",
   "id": "b3780b57",
   "metadata": {},
   "source": [
    "### **Práctica: Generación de Rostros con VAE usando CelebA**  \n",
    "**Objetivo**: Entrenar un Variational Autoencoder (VAE) convolucional para generar rostros nuevos a partir del dataset CelebA.  "
   ]
  },
  {
   "cell_type": "markdown",
   "id": "c9f59e87",
   "metadata": {},
   "source": [
    "---"
   ]
  },
  {
   "cell_type": "markdown",
   "id": "ab2f9779",
   "metadata": {},
   "source": [
    "### **1. Configuración Inicial**  \n",
    "**Objetivo**: Preparar el entorno y el dataset.  "
   ]
  },
  {
   "cell_type": "markdown",
   "id": "d10b8147",
   "metadata": {},
   "source": [
    "**Instrucciones**:  "
   ]
  },
  {
   "cell_type": "markdown",
   "id": "bb06797c",
   "metadata": {},
   "source": [
    "1. **Descargar CelebA**:  \n",
    "   - El dataset contiene ~200k imágenes de rostros.  \n",
    "   - Utilizamos `kagglehub` para descargar el dataset directamente desde Kaggle."
   ]
  },
  {
   "cell_type": "code",
   "execution_count": 2,
   "id": "590b0fae",
   "metadata": {},
   "outputs": [
    {
     "name": "stderr",
     "output_type": "stream",
     "text": [
      "/mnt/c/Users/aleja/Desktop/Master/05 - IA Generativa/Desarrollo/CasoEstudio-GenerarRostros/.venvWSL/lib/python3.12/site-packages/tqdm/auto.py:21: TqdmWarning: IProgress not found. Please update jupyter and ipywidgets. See https://ipywidgets.readthedocs.io/en/stable/user_install.html\n",
      "  from .autonotebook import tqdm as notebook_tqdm\n"
     ]
    },
    {
     "name": "stdout",
     "output_type": "stream",
     "text": [
      "Downloading from https://www.kaggle.com/api/v1/datasets/download/jessicali9530/celeba-dataset?dataset_version_number=2...\n"
     ]
    },
    {
     "name": "stderr",
     "output_type": "stream",
     "text": [
      "100%|██████████| 1.33G/1.33G [00:32<00:00, 44.3MB/s]"
     ]
    },
    {
     "name": "stdout",
     "output_type": "stream",
     "text": [
      "Extracting files...\n"
     ]
    },
    {
     "name": "stderr",
     "output_type": "stream",
     "text": [
      "\n"
     ]
    },
    {
     "name": "stdout",
     "output_type": "stream",
     "text": [
      "Path to dataset files: /home/aleja/.cache/kagglehub/datasets/jessicali9530/celeba-dataset/versions/2\n"
     ]
    }
   ],
   "source": [
    "import kagglehub\n",
    "\n",
    "# Download latest version\n",
    "path = kagglehub.dataset_download(\"jessicali9530/celeba-dataset\")\n",
    "\n",
    "print(\"Path to dataset files:\", path)"
   ]
  }
 ],
 "metadata": {
  "kernelspec": {
   "display_name": ".venvWSL",
   "language": "python",
   "name": "python3"
  },
  "language_info": {
   "codemirror_mode": {
    "name": "ipython",
    "version": 3
   },
   "file_extension": ".py",
   "mimetype": "text/x-python",
   "name": "python",
   "nbconvert_exporter": "python",
   "pygments_lexer": "ipython3",
   "version": "3.12.3"
  }
 },
 "nbformat": 4,
 "nbformat_minor": 5
}
